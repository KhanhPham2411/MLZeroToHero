{
  "nbformat": 4,
  "nbformat_minor": 0,
  "metadata": {
    "language_info": {
      "codemirror_mode": {
        "name": "ipython",
        "version": 3
      },
      "file_extension": ".py",
      "mimetype": "text/x-python",
      "name": "python",
      "nbconvert_exporter": "python",
      "pygments_lexer": "ipython3",
      "version": "3.7.5-final"
    },
    "orig_nbformat": 2,
    "kernelspec": {
      "name": "python37564bit3000a21cd8074ac193846ba3d9cc4ba8",
      "display_name": "Python 3.7.5 64-bit"
    },
    "colab": {
      "name": "KapaForNumbersRelationship.ipynb",
      "provenance": []
    },
    "accelerator": "GPU"
  },
  "cells": [
    {
      "cell_type": "markdown",
      "metadata": {
        "id": "pDz8bwGNaQLp",
        "colab_type": "text"
      },
      "source": [
        "#Prepare data"
      ]
    },
    {
      "cell_type": "code",
      "metadata": {
        "id": "cUULBM2EaTJ5",
        "colab_type": "code",
        "colab": {}
      },
      "source": [
        "# http://nttuan8.com/bai-1:-linear-regression-va-gradient-descent/\n",
        "import pandas as pd\n",
        "\n",
        "data = pd.read_csv('data_linear.csv').values\n",
        "N = data.shape[0]\n",
        "xs = data[:, 0].reshape(-1, 1)\n",
        "ys = data[:, 1].reshape(-1, 1)"
      ],
      "execution_count": 0,
      "outputs": []
    },
    {
      "cell_type": "code",
      "metadata": {
        "id": "jdQY5yA9agsl",
        "colab_type": "code",
        "colab": {}
      },
      "source": [
        "# http://hanoimoi.com.vn/Tin-tuc/Thieu-nhi/588615/trac-nghiem-iq-dang-day-so\n",
        "xs = np.array([210, 245, 320, 355, 430, 505, 540], dtype=float)\n",
        "ys = np.array([245, 320, 355, 430, 505, 540, 615], dtype=float)\n",
        "\n",
        "xs = np.array([2, 3, 4, 6, 8, 11, 14, 18, 22], dtype=float)\n",
        "ys = np.array([3, 4, 6, 8, 11, 14, 18, 22, 27], dtype=float)"
      ],
      "execution_count": 0,
      "outputs": []
    },
    {
      "cell_type": "code",
      "metadata": {
        "id": "5bREqnt2ajmD",
        "colab_type": "code",
        "colab": {}
      },
      "source": [
        "# original data\n",
        "xs = np.array([-1.0, 0.0, 1.0, 2.0, 3.0, 4.0], dtype=float)\n",
        "ys = np.array([-2.0, 1.0, 4.0, 7.0, 10.0, 13.0], dtype=float)"
      ],
      "execution_count": 0,
      "outputs": []
    },
    {
      "cell_type": "markdown",
      "metadata": {
        "id": "xOt_-R2EaTwh",
        "colab_type": "text"
      },
      "source": [
        "#Train model"
      ]
    },
    {
      "cell_type": "code",
      "metadata": {
        "id": "rAIJg_36zlcS",
        "colab_type": "code",
        "colab": {}
      },
      "source": [
        "import tensorflow as tf\n",
        "import numpy as np\n",
        "from tensorflow import keras\n",
        "from tensorflow.keras.optimizers import RMSprop"
      ],
      "execution_count": 0,
      "outputs": []
    },
    {
      "cell_type": "code",
      "metadata": {
        "id": "qgvC_DKNZ1G7",
        "colab_type": "code",
        "colab": {}
      },
      "source": [
        "import pandas as pd"
      ],
      "execution_count": 0,
      "outputs": []
    },
    {
      "cell_type": "code",
      "metadata": {
        "id": "eB08N9VPzlcf",
        "colab_type": "code",
        "outputId": "61dd70f0-0537-428e-86ae-3b935cf71b34",
        "colab": {
          "base_uri": "https://localhost:8080/",
          "height": 221
        }
      },
      "source": [
        "model = tf.keras.Sequential()\n",
        "model.add(keras.layers.Dense(units=3, input_shape=[1]))\n",
        "model.add(keras.layers.Dense(units=1))\n",
        "model.summary()"
      ],
      "execution_count": 220,
      "outputs": [
        {
          "output_type": "stream",
          "text": [
            "Model: \"sequential_35\"\n",
            "_________________________________________________________________\n",
            "Layer (type)                 Output Shape              Param #   \n",
            "=================================================================\n",
            "dense_49 (Dense)             (None, 3)                 6         \n",
            "_________________________________________________________________\n",
            "dense_50 (Dense)             (None, 1)                 4         \n",
            "=================================================================\n",
            "Total params: 10\n",
            "Trainable params: 10\n",
            "Non-trainable params: 0\n",
            "_________________________________________________________________\n"
          ],
          "name": "stdout"
        }
      ]
    },
    {
      "cell_type": "code",
      "metadata": {
        "id": "UhtQNtuXUfY8",
        "colab_type": "code",
        "colab": {}
      },
      "source": [
        "DESIRED_ACCURACY = 0.9\n",
        "\n",
        "class myCallback(tf.keras.callbacks.Callback):\n",
        "  def on_epoch_end(self, epoch, logs={}):\n",
        "    # if(logs.get('val_acc')>DESIRED_ACCURACY):\n",
        "    #   print(\"\\nReached 90% accuracy so cancelling training!\")\n",
        "    #   self.model.stop_training = True\n",
        "    if(logs.get('loss')<0.1):\n",
        "      print(\"\\nReached loss < 0.1 so cancelling training!\")\n",
        "      self.model.stop_training = True\n",
        "\n",
        "callbacks = myCallback()"
      ],
      "execution_count": 0,
      "outputs": []
    },
    {
      "cell_type": "code",
      "metadata": {
        "id": "Pb9gdAbkXwwy",
        "colab_type": "code",
        "colab": {}
      },
      "source": [
        "model.compile(optimizer='adam', loss='mean_squared_error', metrics=['acc'])"
      ],
      "execution_count": 0,
      "outputs": []
    },
    {
      "cell_type": "code",
      "metadata": {
        "id": "1bBoen6t0Ryq",
        "colab_type": "code",
        "colab": {
          "base_uri": "https://localhost:8080/",
          "height": 1000
        },
        "outputId": "a6be5bab-c6b3-49d0-d0f0-eb2f5b7b8dce"
      },
      "source": [
        "model.fit(xs, ys, epochs=50, callbacks=[callbacks])"
      ],
      "execution_count": 238,
      "outputs": [
        {
          "output_type": "stream",
          "text": [
            "Epoch 1/50\n",
            "1/1 [==============================] - 0s 984us/step - loss: 246.6201 - acc: 0.0000e+00\n",
            "Epoch 2/50\n",
            "1/1 [==============================] - 0s 893us/step - loss: 246.6200 - acc: 0.0000e+00\n",
            "Epoch 3/50\n",
            "1/1 [==============================] - 0s 874us/step - loss: 246.6202 - acc: 0.0000e+00\n",
            "Epoch 4/50\n",
            "1/1 [==============================] - 0s 1ms/step - loss: 246.6203 - acc: 0.0000e+00\n",
            "Epoch 5/50\n",
            "1/1 [==============================] - 0s 961us/step - loss: 246.6202 - acc: 0.0000e+00\n",
            "Epoch 6/50\n",
            "1/1 [==============================] - 0s 788us/step - loss: 246.6202 - acc: 0.0000e+00\n",
            "Epoch 7/50\n",
            "1/1 [==============================] - 0s 830us/step - loss: 246.6203 - acc: 0.0000e+00\n",
            "Epoch 8/50\n",
            "1/1 [==============================] - 0s 1ms/step - loss: 246.6201 - acc: 0.0000e+00\n",
            "Epoch 9/50\n",
            "1/1 [==============================] - 0s 1ms/step - loss: 246.6200 - acc: 0.0000e+00\n",
            "Epoch 10/50\n",
            "1/1 [==============================] - 0s 870us/step - loss: 246.6194 - acc: 0.0000e+00\n",
            "Epoch 11/50\n",
            "1/1 [==============================] - 0s 979us/step - loss: 246.6199 - acc: 0.0000e+00\n",
            "Epoch 12/50\n",
            "1/1 [==============================] - 0s 835us/step - loss: 246.6202 - acc: 0.0000e+00\n",
            "Epoch 13/50\n",
            "1/1 [==============================] - 0s 840us/step - loss: 246.6201 - acc: 0.0000e+00\n",
            "Epoch 14/50\n",
            "1/1 [==============================] - 0s 908us/step - loss: 246.6208 - acc: 0.0000e+00\n",
            "Epoch 15/50\n",
            "1/1 [==============================] - 0s 824us/step - loss: 246.6208 - acc: 0.0000e+00\n",
            "Epoch 16/50\n",
            "1/1 [==============================] - 0s 921us/step - loss: 246.6204 - acc: 0.0000e+00\n",
            "Epoch 17/50\n",
            "1/1 [==============================] - 0s 810us/step - loss: 246.6203 - acc: 0.0000e+00\n",
            "Epoch 18/50\n",
            "1/1 [==============================] - 0s 1ms/step - loss: 246.6194 - acc: 0.0000e+00\n",
            "Epoch 19/50\n",
            "1/1 [==============================] - 0s 999us/step - loss: 246.6203 - acc: 0.0000e+00\n",
            "Epoch 20/50\n",
            "1/1 [==============================] - 0s 1ms/step - loss: 246.6205 - acc: 0.0000e+00\n",
            "Epoch 21/50\n",
            "1/1 [==============================] - 0s 794us/step - loss: 246.6204 - acc: 0.0000e+00\n",
            "Epoch 22/50\n",
            "1/1 [==============================] - 0s 1ms/step - loss: 246.6203 - acc: 0.0000e+00\n",
            "Epoch 23/50\n",
            "1/1 [==============================] - 0s 2ms/step - loss: 246.6202 - acc: 0.0000e+00\n",
            "Epoch 24/50\n",
            "1/1 [==============================] - 0s 835us/step - loss: 246.6198 - acc: 0.0000e+00\n",
            "Epoch 25/50\n",
            "1/1 [==============================] - 0s 2ms/step - loss: 246.6206 - acc: 0.0000e+00\n",
            "Epoch 26/50\n",
            "1/1 [==============================] - 0s 2ms/step - loss: 246.6200 - acc: 0.0000e+00\n",
            "Epoch 27/50\n",
            "1/1 [==============================] - 0s 2ms/step - loss: 246.6204 - acc: 0.0000e+00\n",
            "Epoch 28/50\n",
            "1/1 [==============================] - 0s 2ms/step - loss: 246.6205 - acc: 0.0000e+00\n",
            "Epoch 29/50\n",
            "1/1 [==============================] - 0s 2ms/step - loss: 246.6206 - acc: 0.0000e+00\n",
            "Epoch 30/50\n",
            "1/1 [==============================] - 0s 2ms/step - loss: 246.6201 - acc: 0.0000e+00\n",
            "Epoch 31/50\n",
            "1/1 [==============================] - 0s 2ms/step - loss: 246.6205 - acc: 0.0000e+00\n",
            "Epoch 32/50\n",
            "1/1 [==============================] - 0s 2ms/step - loss: 246.6201 - acc: 0.0000e+00\n",
            "Epoch 33/50\n",
            "1/1 [==============================] - 0s 2ms/step - loss: 246.6204 - acc: 0.0000e+00\n",
            "Epoch 34/50\n",
            "1/1 [==============================] - 0s 2ms/step - loss: 246.6204 - acc: 0.0000e+00\n",
            "Epoch 35/50\n",
            "1/1 [==============================] - 0s 2ms/step - loss: 246.6202 - acc: 0.0000e+00\n",
            "Epoch 36/50\n",
            "1/1 [==============================] - 0s 2ms/step - loss: 246.6202 - acc: 0.0000e+00\n",
            "Epoch 37/50\n",
            "1/1 [==============================] - 0s 2ms/step - loss: 246.6199 - acc: 0.0000e+00\n",
            "Epoch 38/50\n",
            "1/1 [==============================] - 0s 2ms/step - loss: 246.6203 - acc: 0.0000e+00\n",
            "Epoch 39/50\n",
            "1/1 [==============================] - 0s 2ms/step - loss: 246.6203 - acc: 0.0000e+00\n",
            "Epoch 40/50\n",
            "1/1 [==============================] - 0s 3ms/step - loss: 246.6201 - acc: 0.0000e+00\n",
            "Epoch 41/50\n",
            "1/1 [==============================] - 0s 2ms/step - loss: 246.6201 - acc: 0.0000e+00\n",
            "Epoch 42/50\n",
            "1/1 [==============================] - 0s 1ms/step - loss: 246.6201 - acc: 0.0000e+00\n",
            "Epoch 43/50\n",
            "1/1 [==============================] - 0s 2ms/step - loss: 246.6205 - acc: 0.0000e+00\n",
            "Epoch 44/50\n",
            "1/1 [==============================] - 0s 2ms/step - loss: 246.6196 - acc: 0.0000e+00\n",
            "Epoch 45/50\n",
            "1/1 [==============================] - 0s 998us/step - loss: 246.6206 - acc: 0.0000e+00\n",
            "Epoch 46/50\n",
            "1/1 [==============================] - 0s 1ms/step - loss: 246.6206 - acc: 0.0000e+00\n",
            "Epoch 47/50\n",
            "1/1 [==============================] - 0s 2ms/step - loss: 246.6200 - acc: 0.0000e+00\n",
            "Epoch 48/50\n",
            "1/1 [==============================] - 0s 1ms/step - loss: 246.6200 - acc: 0.0000e+00\n",
            "Epoch 49/50\n",
            "1/1 [==============================] - 0s 2ms/step - loss: 246.6203 - acc: 0.0000e+00\n",
            "Epoch 50/50\n",
            "1/1 [==============================] - 0s 4ms/step - loss: 246.6199 - acc: 0.0000e+00\n"
          ],
          "name": "stdout"
        },
        {
          "output_type": "execute_result",
          "data": {
            "text/plain": [
              "<tensorflow.python.keras.callbacks.History at 0x7f373f0e9080>"
            ]
          },
          "metadata": {
            "tags": []
          },
          "execution_count": 238
        }
      ]
    },
    {
      "cell_type": "code",
      "metadata": {
        "id": "c7yy7IXP00bu",
        "colab_type": "code",
        "outputId": "92ceeda4-bc05-4bcb-c034-ec0928565e90",
        "colab": {
          "base_uri": "https://localhost:8080/",
          "height": 34
        }
      },
      "source": [
        "print(model.predict([50]))"
      ],
      "execution_count": 239,
      "outputs": [
        {
          "output_type": "stream",
          "text": [
            "[[753.4949]]\n"
          ],
          "name": "stdout"
        }
      ]
    }
  ]
}