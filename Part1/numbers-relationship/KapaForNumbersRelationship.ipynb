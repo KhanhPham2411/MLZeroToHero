{
  "nbformat": 4,
  "nbformat_minor": 0,
  "metadata": {
    "language_info": {
      "codemirror_mode": {
        "name": "ipython",
        "version": 3
      },
      "file_extension": ".py",
      "mimetype": "text/x-python",
      "name": "python",
      "nbconvert_exporter": "python",
      "pygments_lexer": "ipython3",
      "version": "3.7.5-final"
    },
    "orig_nbformat": 2,
    "kernelspec": {
      "name": "python37564bit3000a21cd8074ac193846ba3d9cc4ba8",
      "display_name": "Python 3.7.5 64-bit"
    },
    "colab": {
      "name": "KapaForNumbersRelationship.ipynb",
      "provenance": []
    },
    "accelerator": "GPU"
  },
  "cells": [
    {
      "cell_type": "code",
      "metadata": {
        "id": "rAIJg_36zlcS",
        "colab_type": "code",
        "colab": {}
      },
      "source": [
        "import tensorflow as tf\n",
        "import numpy as np\n",
        "from tensorflow import keras\n",
        "from tensorflow.keras.optimizers import RMSprop"
      ],
      "execution_count": 0,
      "outputs": []
    },
    {
      "cell_type": "code",
      "metadata": {
        "id": "eB08N9VPzlcf",
        "colab_type": "code",
        "outputId": "02cbb9b2-c20c-41de-e957-f1dac34733a0",
        "colab": {
          "base_uri": "https://localhost:8080/",
          "height": 221
        }
      },
      "source": [
        "model = tf.keras.Sequential()\n",
        "model.add(keras.layers.Dense(units=3, input_shape=[1]))\n",
        "model.add(keras.layers.Dense(units=1))\n",
        "model.summary()"
      ],
      "execution_count": 130,
      "outputs": [
        {
          "output_type": "stream",
          "text": [
            "Model: \"sequential_28\"\n",
            "_________________________________________________________________\n",
            "Layer (type)                 Output Shape              Param #   \n",
            "=================================================================\n",
            "dense_39 (Dense)             (None, 3)                 6         \n",
            "_________________________________________________________________\n",
            "dense_40 (Dense)             (None, 1)                 4         \n",
            "=================================================================\n",
            "Total params: 10\n",
            "Trainable params: 10\n",
            "Non-trainable params: 0\n",
            "_________________________________________________________________\n"
          ],
          "name": "stdout"
        }
      ]
    },
    {
      "cell_type": "code",
      "metadata": {
        "id": "5vfAfaNlVO0V",
        "colab_type": "code",
        "colab": {}
      },
      "source": [
        "model.compile(optimizer=RMSprop(learning_rate=0.1), loss='mean_squared_error', metrics=['acc'])"
      ],
      "execution_count": 0,
      "outputs": []
    },
    {
      "cell_type": "code",
      "metadata": {
        "id": "TmxomAvXNNqV",
        "colab_type": "code",
        "colab": {}
      },
      "source": [
        "# http://hanoimoi.com.vn/Tin-tuc/Thieu-nhi/588615/trac-nghiem-iq-dang-day-so\n",
        "xs = np.array([210, 245, 320, 355, 430, 505, 540], dtype=float)\n",
        "ys = np.array([245, 320, 355, 430, 505, 540, 615], dtype=float)"
      ],
      "execution_count": 0,
      "outputs": []
    },
    {
      "cell_type": "code",
      "metadata": {
        "id": "xLC4LEkBzlc3",
        "colab_type": "code",
        "colab": {}
      },
      "source": [
        "xs = np.array([-1.0, 0.0, 1.0, 2.0, 3.0, 4.0], dtype=float)\n",
        "ys = np.array([-2.0, 1.0, 4.0, 7.0, 10.0, 13.0], dtype=float)\n",
        "\n"
      ],
      "execution_count": 0,
      "outputs": []
    },
    {
      "cell_type": "code",
      "metadata": {
        "id": "UhtQNtuXUfY8",
        "colab_type": "code",
        "colab": {}
      },
      "source": [
        "DESIRED_ACCURACY = 0.9\n",
        "\n",
        "class myCallback(tf.keras.callbacks.Callback):\n",
        "  def on_epoch_end(self, epoch, logs={}):\n",
        "    # if(logs.get('val_acc')>DESIRED_ACCURACY):\n",
        "    #   print(\"\\nReached 90% accuracy so cancelling training!\")\n",
        "    #   self.model.stop_training = True\n",
        "    if(logs.get('loss')<0.1):\n",
        "      print(\"\\nReached loss < 0.1 so cancelling training!\")\n",
        "      self.model.stop_training = True\n",
        "\n",
        "callbacks = myCallback()"
      ],
      "execution_count": 0,
      "outputs": []
    },
    {
      "cell_type": "code",
      "metadata": {
        "id": "1bBoen6t0Ryq",
        "colab_type": "code",
        "colab": {
          "base_uri": "https://localhost:8080/",
          "height": 374
        },
        "outputId": "74ab3396-0fa4-4837-b076-c83ea6d757d3"
      },
      "source": [
        "model.fit(xs, ys, epochs=50, callbacks=[callbacks])"
      ],
      "execution_count": 154,
      "outputs": [
        {
          "output_type": "stream",
          "text": [
            "Epoch 1/50\n",
            "1/1 [==============================] - 0s 898us/step - loss: 10.9482 - acc: 0.0000e+00\n",
            "Epoch 2/50\n",
            "1/1 [==============================] - 0s 1ms/step - loss: 8.3484 - acc: 0.0000e+00\n",
            "Epoch 3/50\n",
            "1/1 [==============================] - 0s 1ms/step - loss: 1.3062 - acc: 0.0000e+00\n",
            "Epoch 4/50\n",
            "1/1 [==============================] - 0s 1ms/step - loss: 0.7924 - acc: 0.0000e+00\n",
            "Epoch 5/50\n",
            "1/1 [==============================] - 0s 1ms/step - loss: 0.4874 - acc: 0.0000e+00\n",
            "Epoch 6/50\n",
            "1/1 [==============================] - 0s 1ms/step - loss: 0.2988 - acc: 0.0000e+00\n",
            "Epoch 7/50\n",
            "1/1 [==============================] - 0s 973us/step - loss: 0.1814 - acc: 0.0000e+00\n",
            "Epoch 8/50\n",
            "1/1 [==============================] - 0s 1ms/step - loss: 0.1084 - acc: 0.1667\n",
            "Epoch 9/50\n",
            "1/1 [==============================] - ETA: 0s - loss: 0.0635 - acc: 0.1667\n",
            "Reached loss < 0.1 so cancelling training!\n",
            "1/1 [==============================] - 0s 1ms/step - loss: 0.0635 - acc: 0.1667\n"
          ],
          "name": "stdout"
        },
        {
          "output_type": "execute_result",
          "data": {
            "text/plain": [
              "<tensorflow.python.keras.callbacks.History at 0x7f376204f748>"
            ]
          },
          "metadata": {
            "tags": []
          },
          "execution_count": 154
        }
      ]
    },
    {
      "cell_type": "code",
      "metadata": {
        "id": "c7yy7IXP00bu",
        "colab_type": "code",
        "outputId": "8f543a11-ee13-4b40-b734-4e73d4478522",
        "colab": {
          "base_uri": "https://localhost:8080/",
          "height": 34
        }
      },
      "source": [
        "print(model.predict([5]))"
      ],
      "execution_count": 155,
      "outputs": [
        {
          "output_type": "stream",
          "text": [
            "[[16.199842]]\n"
          ],
          "name": "stdout"
        }
      ]
    }
  ]
}